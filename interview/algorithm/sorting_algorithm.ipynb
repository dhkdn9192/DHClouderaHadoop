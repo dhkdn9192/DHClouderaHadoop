{
 "cells": [
  {
   "cell_type": "markdown",
   "metadata": {},
   "source": [
    "# Sorting Algorithm\n",
    "\n",
    "면접에서 자주 묻는 정렬 알고리즘들의 파이썬 코드 구현\n",
    "\n",
    "- Merge Sort\n",
    "- Quick Sort\n"
   ]
  },
  {
   "cell_type": "markdown",
   "metadata": {},
   "source": [
    "## Merge Sort\n",
    "\n",
    "merge sort의 과정은 배열을 매 재귀마다 둘로 나누므로 이진 트리를 형성하게 된다. merge sort의 계산복잡도는 이진 트리의 높이와 각 단계의 원소 수의 곱으로 나타낼 수 있다. 즉, O($n$ $log$ $n$)이 된다."
   ]
  },
  {
   "cell_type": "code",
   "execution_count": 1,
   "metadata": {},
   "outputs": [],
   "source": [
    "def merge_sort(ary):\n",
    "    \n",
    "    if len(ary) <= 1:\n",
    "        return ary\n",
    "    \n",
    "    pivot = len(ary) // 2\n",
    "    left_ary = ary[:pivot]\n",
    "    right_ary = ary[pivot:]\n",
    "    \n",
    "    l_list = merge_sort(left_ary)\n",
    "    r_list = merge_sort(right_ary)\n",
    "    \n",
    "    merged = []\n",
    "    \n",
    "    while len(l_list) > 0 and len(r_list) > 0:\n",
    "        if l_list[0] < r_list[0]:\n",
    "            merged.append(l_list[0])\n",
    "            l_list = l_list[1:]\n",
    "        else:\n",
    "            merged.append(r_list[0])\n",
    "            r_list = r_list[1:]\n",
    "\n",
    "    merged += r_list\n",
    "    merged += l_list\n",
    "    \n",
    "    return merged"
   ]
  },
  {
   "cell_type": "code",
   "execution_count": 2,
   "metadata": {},
   "outputs": [
    {
     "name": "stdout",
     "output_type": "stream",
     "text": [
      "[1, 2, 3, 4, 5, 6, 7, 8]\n"
     ]
    }
   ],
   "source": [
    "# example\n",
    "ary = [5,3,6,4,2,7,1,8]\n",
    "sorted_ary = merge_sort(ary)\n",
    "print(sorted_ary)"
   ]
  },
  {
   "cell_type": "markdown",
   "metadata": {},
   "source": [
    "## Quick Sort\n",
    "\n",
    "quick sort는 배열 원소 중 하나를 pivot으로 정하고 pivot보다 큰 값들의 배열, 작은 값들의 배열을 만든다. 생성된 두 배열에 대해 재귀적으로 quick sort를 수행하고 각 수행 단계에서 정렬된 두 배열과 pivot을 순서대로 정렬한다.\n",
    "\n",
    "quick sort 역시 정렬 과정에서 이진 트리를 형성하므로 계산복잡도는 트리의 높이와 각 단계의 원소 수의 곱이므로 평균 O($n$ $log$ $n$)이 된다.\n",
    "\n",
    "그러나 매 반복에서 pivot이 항상 최댓값 또는 최솟값일 경우 이진 트리의 높이가 n이 되므로 최악의 경우엔 계산복잡도가 O($n^2$)가 된다."
   ]
  },
  {
   "cell_type": "code",
   "execution_count": 3,
   "metadata": {},
   "outputs": [],
   "source": [
    "def quick_sort(ary):\n",
    "    \n",
    "    if len(ary) <= 1:\n",
    "        return ary\n",
    "    \n",
    "    pivot = ary[0]\n",
    "    lesser = [a for a in ary[1:] if a < pivot]\n",
    "    greater = [a for a in ary[1:] if a >= pivot]  # >가 아니라 >=인건, 이미 ary[1:]에서 pivot이 빠져있기 때문\n",
    "    \n",
    "    return quick_sort(lesser) + [pivot] + quick_sort(greater)"
   ]
  },
  {
   "cell_type": "code",
   "execution_count": 4,
   "metadata": {},
   "outputs": [
    {
     "name": "stdout",
     "output_type": "stream",
     "text": [
      "[1, 2, 3, 4, 5, 6, 7, 8]\n"
     ]
    }
   ],
   "source": [
    "# example\n",
    "ary = [5,3,6,4,2,7,1,8]\n",
    "sorted_ary = quick_sort(ary)\n",
    "print(sorted_ary)"
   ]
  },
  {
   "cell_type": "markdown",
   "metadata": {},
   "source": [
    "## Reference\n",
    "- https://ratsgo.github.io/data%20structure&algorithm/2017/10/03/mergesort/\n",
    "- https://ratsgo.github.io/data%20structure&algorithm/2017/09/28/quicksort/"
   ]
  }
 ],
 "metadata": {
  "kernelspec": {
   "display_name": "Python 3",
   "language": "python",
   "name": "python3"
  },
  "language_info": {
   "codemirror_mode": {
    "name": "ipython",
    "version": 3
   },
   "file_extension": ".py",
   "mimetype": "text/x-python",
   "name": "python",
   "nbconvert_exporter": "python",
   "pygments_lexer": "ipython3",
   "version": "3.6.8"
  }
 },
 "nbformat": 4,
 "nbformat_minor": 2
}
