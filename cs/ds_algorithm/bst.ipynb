{
 "cells": [
  {
   "cell_type": "code",
   "execution_count": 1,
   "metadata": {},
   "outputs": [],
   "source": [
    "class Node(object):\n",
    "    def __init__(self, data):\n",
    "        self.data = data\n",
    "        self.left = self.right = None"
   ]
  },
  {
   "cell_type": "code",
   "execution_count": 2,
   "metadata": {},
   "outputs": [],
   "source": [
    "class BinarySearchTree(object):\n",
    "    def __init__(self):\n",
    "        self.root = None\n",
    "        \n",
    "    def insert(self, data):        \n",
    "        # root가 None일 경우 data를 root로\n",
    "        if self.root is None:\n",
    "            self.root = Node(data)\n",
    "            return True\n",
    "        \n",
    "        # 트리를 탐색하다 leaf 노드에 도달하면 자식을 추가하고 True 반환\n",
    "        parent = self.root\n",
    "        child = -1\n",
    "        while child is not None:\n",
    "            child = parent.left if data <= parent.data else parent.right\n",
    "            \n",
    "            if child is None:\n",
    "                if data <= parent.data:\n",
    "                    parent.left = Node(data)\n",
    "                else:\n",
    "                    parent.right = Node(data)\n",
    "            else:\n",
    "                parent = child\n",
    "                \n",
    "        return True\n",
    "        \n",
    "    def find(self, data):\n",
    "        # root가 None일 경우\n",
    "        if self.root is None:\n",
    "            return False\n",
    "        \n",
    "        # root가 찾는 노드일 경우\n",
    "        if self.root.data == data:\n",
    "            return True\n",
    "        \n",
    "        # 트리를 탐색하다 찾으면 True, 없으면 False 반환\n",
    "        parent = self.root\n",
    "        child = -1\n",
    "        while child is not None:\n",
    "            child = parent.left if data <= parent.data else parent.right\n",
    "            \n",
    "            if child is None:\n",
    "                return False\n",
    "            elif child.data == data:\n",
    "                return True\n",
    "            else:\n",
    "                parent = child\n",
    "                \n",
    "        return False"
   ]
  },
  {
   "cell_type": "code",
   "execution_count": 3,
   "metadata": {},
   "outputs": [],
   "source": [
    "bst = BinarySearchTree()\n",
    "\n",
    "ary = [20,42,11,25,86,43,25,66]\n",
    "\n",
    "for a in ary:\n",
    "    bst.insert(a)"
   ]
  },
  {
   "cell_type": "code",
   "execution_count": 4,
   "metadata": {},
   "outputs": [
    {
     "name": "stdout",
     "output_type": "stream",
     "text": [
      "True\n",
      "True\n",
      "True\n",
      "True\n",
      "False\n",
      "False\n",
      "False\n",
      "False\n"
     ]
    }
   ],
   "source": [
    "print(bst.find(20))  # True\n",
    "print(bst.find(42))  # True\n",
    "print(bst.find(43))  # True\n",
    "print(bst.find(66))  # True\n",
    "\n",
    "print(bst.find(111))  # False\n",
    "print(bst.find(2))  # False\n",
    "print(bst.find(23))  # False\n",
    "print(bst.find(999))  # False"
   ]
  },
  {
   "cell_type": "code",
   "execution_count": null,
   "metadata": {},
   "outputs": [],
   "source": []
  }
 ],
 "metadata": {
  "kernelspec": {
   "display_name": "Python 3",
   "language": "python",
   "name": "python3"
  },
  "language_info": {
   "codemirror_mode": {
    "name": "ipython",
    "version": 3
   },
   "file_extension": ".py",
   "mimetype": "text/x-python",
   "name": "python",
   "nbconvert_exporter": "python",
   "pygments_lexer": "ipython3",
   "version": "3.6.8"
  }
 },
 "nbformat": 4,
 "nbformat_minor": 2
}
